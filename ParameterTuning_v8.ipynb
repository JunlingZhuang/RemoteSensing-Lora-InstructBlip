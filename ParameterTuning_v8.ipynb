{
  "nbformat": 4,
  "nbformat_minor": 0,
  "metadata": {
    "colab": {
      "provenance": [],
      "machine_shape": "hm",
      "gpuType": "A100"
    },
    "kernelspec": {
      "name": "python3",
      "display_name": "Python 3"
    },
    "language_info": {
      "name": "python"
    },
    "accelerator": "GPU",
    "widgets": {
      "application/vnd.jupyter.widget-state+json": {
        "daa6536596bf4f18836d14e7c375e42c": {
          "model_module": "@jupyter-widgets/controls",
          "model_name": "HBoxModel",
          "model_module_version": "2.0.0",
          "state": {
            "_dom_classes": [],
            "_model_module": "@jupyter-widgets/controls",
            "_model_module_version": "2.0.0",
            "_model_name": "HBoxModel",
            "_view_count": null,
            "_view_module": "@jupyter-widgets/controls",
            "_view_module_version": "2.0.0",
            "_view_name": "HBoxView",
            "box_style": "",
            "children": [
              "IPY_MODEL_86b8fc3a03584ac3bc4ccd477b79f26d",
              "IPY_MODEL_db34d583985243abb5f3e1d8a9f289f3",
              "IPY_MODEL_6e1db235b6334c88a546783ac717a3db"
            ],
            "layout": "IPY_MODEL_fa200dd92f3e4b1ea803cebf3935c3f0",
            "tabbable": null,
            "tooltip": null
          }
        },
        "86b8fc3a03584ac3bc4ccd477b79f26d": {
          "model_module": "@jupyter-widgets/controls",
          "model_name": "HTMLModel",
          "model_module_version": "2.0.0",
          "state": {
            "_dom_classes": [],
            "_model_module": "@jupyter-widgets/controls",
            "_model_module_version": "2.0.0",
            "_model_name": "HTMLModel",
            "_view_count": null,
            "_view_module": "@jupyter-widgets/controls",
            "_view_module_version": "2.0.0",
            "_view_name": "HTMLView",
            "description": "",
            "description_allow_html": false,
            "layout": "IPY_MODEL_0a9056dfc9a744a1963a63359863d7a5",
            "placeholder": "​",
            "style": "IPY_MODEL_a8f62a447e50405ba177a4f80d59823b",
            "tabbable": null,
            "tooltip": null,
            "value": "Loading checkpoint shards: 100%"
          }
        },
        "db34d583985243abb5f3e1d8a9f289f3": {
          "model_module": "@jupyter-widgets/controls",
          "model_name": "FloatProgressModel",
          "model_module_version": "2.0.0",
          "state": {
            "_dom_classes": [],
            "_model_module": "@jupyter-widgets/controls",
            "_model_module_version": "2.0.0",
            "_model_name": "FloatProgressModel",
            "_view_count": null,
            "_view_module": "@jupyter-widgets/controls",
            "_view_module_version": "2.0.0",
            "_view_name": "ProgressView",
            "bar_style": "success",
            "description": "",
            "description_allow_html": false,
            "layout": "IPY_MODEL_b4ab1528e2694de3ba94ebee58b20584",
            "max": 2,
            "min": 0,
            "orientation": "horizontal",
            "style": "IPY_MODEL_9fc1bf049bec4c859b56e1080e697900",
            "tabbable": null,
            "tooltip": null,
            "value": 2
          }
        },
        "6e1db235b6334c88a546783ac717a3db": {
          "model_module": "@jupyter-widgets/controls",
          "model_name": "HTMLModel",
          "model_module_version": "2.0.0",
          "state": {
            "_dom_classes": [],
            "_model_module": "@jupyter-widgets/controls",
            "_model_module_version": "2.0.0",
            "_model_name": "HTMLModel",
            "_view_count": null,
            "_view_module": "@jupyter-widgets/controls",
            "_view_module_version": "2.0.0",
            "_view_name": "HTMLView",
            "description": "",
            "description_allow_html": false,
            "layout": "IPY_MODEL_e71b3d68c5614f10a4fa6688eee42b69",
            "placeholder": "​",
            "style": "IPY_MODEL_8c260e97e7a24e4abc423c045ea8a10c",
            "tabbable": null,
            "tooltip": null,
            "value": " 2/2 [00:00&lt;00:00,  3.18it/s]"
          }
        },
        "fa200dd92f3e4b1ea803cebf3935c3f0": {
          "model_module": "@jupyter-widgets/base",
          "model_name": "LayoutModel",
          "model_module_version": "2.0.0",
          "state": {
            "_model_module": "@jupyter-widgets/base",
            "_model_module_version": "2.0.0",
            "_model_name": "LayoutModel",
            "_view_count": null,
            "_view_module": "@jupyter-widgets/base",
            "_view_module_version": "2.0.0",
            "_view_name": "LayoutView",
            "align_content": null,
            "align_items": null,
            "align_self": null,
            "border_bottom": null,
            "border_left": null,
            "border_right": null,
            "border_top": null,
            "bottom": null,
            "display": null,
            "flex": null,
            "flex_flow": null,
            "grid_area": null,
            "grid_auto_columns": null,
            "grid_auto_flow": null,
            "grid_auto_rows": null,
            "grid_column": null,
            "grid_gap": null,
            "grid_row": null,
            "grid_template_areas": null,
            "grid_template_columns": null,
            "grid_template_rows": null,
            "height": null,
            "justify_content": null,
            "justify_items": null,
            "left": null,
            "margin": null,
            "max_height": null,
            "max_width": null,
            "min_height": null,
            "min_width": null,
            "object_fit": null,
            "object_position": null,
            "order": null,
            "overflow": null,
            "padding": null,
            "right": null,
            "top": null,
            "visibility": null,
            "width": null
          }
        },
        "0a9056dfc9a744a1963a63359863d7a5": {
          "model_module": "@jupyter-widgets/base",
          "model_name": "LayoutModel",
          "model_module_version": "2.0.0",
          "state": {
            "_model_module": "@jupyter-widgets/base",
            "_model_module_version": "2.0.0",
            "_model_name": "LayoutModel",
            "_view_count": null,
            "_view_module": "@jupyter-widgets/base",
            "_view_module_version": "2.0.0",
            "_view_name": "LayoutView",
            "align_content": null,
            "align_items": null,
            "align_self": null,
            "border_bottom": null,
            "border_left": null,
            "border_right": null,
            "border_top": null,
            "bottom": null,
            "display": null,
            "flex": null,
            "flex_flow": null,
            "grid_area": null,
            "grid_auto_columns": null,
            "grid_auto_flow": null,
            "grid_auto_rows": null,
            "grid_column": null,
            "grid_gap": null,
            "grid_row": null,
            "grid_template_areas": null,
            "grid_template_columns": null,
            "grid_template_rows": null,
            "height": null,
            "justify_content": null,
            "justify_items": null,
            "left": null,
            "margin": null,
            "max_height": null,
            "max_width": null,
            "min_height": null,
            "min_width": null,
            "object_fit": null,
            "object_position": null,
            "order": null,
            "overflow": null,
            "padding": null,
            "right": null,
            "top": null,
            "visibility": null,
            "width": null
          }
        },
        "a8f62a447e50405ba177a4f80d59823b": {
          "model_module": "@jupyter-widgets/controls",
          "model_name": "HTMLStyleModel",
          "model_module_version": "2.0.0",
          "state": {
            "_model_module": "@jupyter-widgets/controls",
            "_model_module_version": "2.0.0",
            "_model_name": "HTMLStyleModel",
            "_view_count": null,
            "_view_module": "@jupyter-widgets/base",
            "_view_module_version": "2.0.0",
            "_view_name": "StyleView",
            "background": null,
            "description_width": "",
            "font_size": null,
            "text_color": null
          }
        },
        "b4ab1528e2694de3ba94ebee58b20584": {
          "model_module": "@jupyter-widgets/base",
          "model_name": "LayoutModel",
          "model_module_version": "2.0.0",
          "state": {
            "_model_module": "@jupyter-widgets/base",
            "_model_module_version": "2.0.0",
            "_model_name": "LayoutModel",
            "_view_count": null,
            "_view_module": "@jupyter-widgets/base",
            "_view_module_version": "2.0.0",
            "_view_name": "LayoutView",
            "align_content": null,
            "align_items": null,
            "align_self": null,
            "border_bottom": null,
            "border_left": null,
            "border_right": null,
            "border_top": null,
            "bottom": null,
            "display": null,
            "flex": null,
            "flex_flow": null,
            "grid_area": null,
            "grid_auto_columns": null,
            "grid_auto_flow": null,
            "grid_auto_rows": null,
            "grid_column": null,
            "grid_gap": null,
            "grid_row": null,
            "grid_template_areas": null,
            "grid_template_columns": null,
            "grid_template_rows": null,
            "height": null,
            "justify_content": null,
            "justify_items": null,
            "left": null,
            "margin": null,
            "max_height": null,
            "max_width": null,
            "min_height": null,
            "min_width": null,
            "object_fit": null,
            "object_position": null,
            "order": null,
            "overflow": null,
            "padding": null,
            "right": null,
            "top": null,
            "visibility": null,
            "width": null
          }
        },
        "9fc1bf049bec4c859b56e1080e697900": {
          "model_module": "@jupyter-widgets/controls",
          "model_name": "ProgressStyleModel",
          "model_module_version": "2.0.0",
          "state": {
            "_model_module": "@jupyter-widgets/controls",
            "_model_module_version": "2.0.0",
            "_model_name": "ProgressStyleModel",
            "_view_count": null,
            "_view_module": "@jupyter-widgets/base",
            "_view_module_version": "2.0.0",
            "_view_name": "StyleView",
            "bar_color": null,
            "description_width": ""
          }
        },
        "e71b3d68c5614f10a4fa6688eee42b69": {
          "model_module": "@jupyter-widgets/base",
          "model_name": "LayoutModel",
          "model_module_version": "2.0.0",
          "state": {
            "_model_module": "@jupyter-widgets/base",
            "_model_module_version": "2.0.0",
            "_model_name": "LayoutModel",
            "_view_count": null,
            "_view_module": "@jupyter-widgets/base",
            "_view_module_version": "2.0.0",
            "_view_name": "LayoutView",
            "align_content": null,
            "align_items": null,
            "align_self": null,
            "border_bottom": null,
            "border_left": null,
            "border_right": null,
            "border_top": null,
            "bottom": null,
            "display": null,
            "flex": null,
            "flex_flow": null,
            "grid_area": null,
            "grid_auto_columns": null,
            "grid_auto_flow": null,
            "grid_auto_rows": null,
            "grid_column": null,
            "grid_gap": null,
            "grid_row": null,
            "grid_template_areas": null,
            "grid_template_columns": null,
            "grid_template_rows": null,
            "height": null,
            "justify_content": null,
            "justify_items": null,
            "left": null,
            "margin": null,
            "max_height": null,
            "max_width": null,
            "min_height": null,
            "min_width": null,
            "object_fit": null,
            "object_position": null,
            "order": null,
            "overflow": null,
            "padding": null,
            "right": null,
            "top": null,
            "visibility": null,
            "width": null
          }
        },
        "8c260e97e7a24e4abc423c045ea8a10c": {
          "model_module": "@jupyter-widgets/controls",
          "model_name": "HTMLStyleModel",
          "model_module_version": "2.0.0",
          "state": {
            "_model_module": "@jupyter-widgets/controls",
            "_model_module_version": "2.0.0",
            "_model_name": "HTMLStyleModel",
            "_view_count": null,
            "_view_module": "@jupyter-widgets/base",
            "_view_module_version": "2.0.0",
            "_view_name": "StyleView",
            "background": null,
            "description_width": "",
            "font_size": null,
            "text_color": null
          }
        }
      }
    }
  },
  "cells": [
    {
      "cell_type": "code",
      "execution_count": 1,
      "metadata": {
        "colab": {
          "base_uri": "https://localhost:8080/"
        },
        "id": "6SZG5vH5xvPa",
        "outputId": "9b9d878f-23fb-4180-ec5e-8f16a61802a5"
      },
      "outputs": [
        {
          "output_type": "stream",
          "name": "stdout",
          "text": [
            "Drive already mounted at /content/drive; to attempt to forcibly remount, call drive.mount(\"/content/drive\", force_remount=True).\n",
            "/content/drive/MyDrive/RemoteSensing-Lora-InstructBlip\n"
          ]
        }
      ],
      "source": [
        "import sys\n",
        "import os\n",
        "import torch\n",
        "import matplotlib.pyplot as plt\n",
        "from datetime import datetime\n",
        "\n",
        "# ✅ Mount your Google Drive\n",
        "from google.colab import drive\n",
        "drive.mount('/content/drive')\n",
        "\n",
        "# ✅ Change to your project directory\n",
        "%cd /content/drive/MyDrive/RemoteSensing-Lora-InstructBlip"
      ]
    },
    {
      "cell_type": "code",
      "source": [
        "# Step 2: Install dependencies from requirements.txt\n",
        "# !pip install -r requirements.txt"
      ],
      "metadata": {
        "id": "B8ijqbWgyms1"
      },
      "execution_count": 2,
      "outputs": []
    },
    {
      "cell_type": "code",
      "source": [
        "#!/usr/bin/env python3\n",
        "\"\"\"\n",
        "Clean LoRA Training Script for InstructBLIP on RSICap\n",
        "Supports YAML configuration files for flexible training\n",
        "\"\"\"\n",
        "\n",
        "import sys\n",
        "import os\n",
        "import json\n",
        "import yaml\n",
        "from datetime import datetime\n",
        "# sys.path.insert(0, os.path.join(os.path.dirname(__file__), 'module'))\n",
        "sys.path.insert(0, '/content/drive/MyDrive/RemoteSensing-Lora-InstructBlip/module')\n",
        "\n",
        "from config import Config\n",
        "from data.rsicap_dataset import load_rsicap_data, RSICapDataset, collate_fn\n",
        "from torch.utils.data import DataLoader\n",
        "from models.lora_model import LoRAInstructBLIP\n",
        "from training.trainer import LoRATrainer\n",
        "import torch\n",
        "import gc\n",
        "\n",
        "# 强制清理\n",
        "torch.cuda.empty_cache()\n",
        "gc.collect()\n",
        "\n",
        "# # 中国镜像支持\n",
        "# os.environ['HF_ENDPOINT'] = 'https://hf-mirror.com'\n",
        "\n",
        "# ============================================================================\n",
        "# CONFIGURATION FILES TO RUN\n",
        "# ============================================================================\n",
        "# Define which config files to run (can be single or multiple)\n",
        "CONFIG_FILES = [\n",
        "    # \"configs/baseline_lora_instructblip.yml\",\n",
        "    # \"configs/high_lr_experiment.yml\",  # Add more configs here\n",
        "    # \"configs/large_batch_experiment.yml\",\n",
        "    # \"configs/grid_search_v4_extreme_rank.yml\",\n",
        "    # \"configs/grid_search_v6_Moderate_Rank_Wider_Batch.yml\",\n",
        "    # \"configs/grid_search_v7_middle_rank_8epochs.yml\",\n",
        "    \"configs/grid_search_v8_middle_rank_15epochs_slower_lr.yml\",\n",
        "]\n",
        "\n",
        "# ============================================================================\n",
        "# YAML CONFIG LOADER\n",
        "# ============================================================================\n",
        "def load_yaml_config(config_path):\n",
        "    \"\"\"Load configuration from YAML file\"\"\"\n",
        "    if not os.path.exists(config_path):\n",
        "        raise FileNotFoundError(f\"Config file not found: {config_path}\")\n",
        "\n",
        "    with open(config_path, 'r', encoding='utf-8') as f:\n",
        "        yaml_config = yaml.safe_load(f)\n",
        "\n",
        "    print(f\"📋 Loaded config: {yaml_config.get('name', 'unnamed')}\")\n",
        "    if 'description' in yaml_config:\n",
        "        print(f\"📝 Description: {yaml_config['description']}\")\n",
        "\n",
        "    return yaml_config\n",
        "\n",
        "def train_single_config(config_path):\n",
        "    \"\"\"Train with a single YAML configuration\"\"\"\n",
        "\n",
        "    # Load YAML configuration\n",
        "    yaml_config = load_yaml_config(config_path)\n",
        "\n",
        "    print(\"=\"*60)\n",
        "    print(\"🚀 LoRA Training - InstructBLIP on RSICap\")\n",
        "    print(f\"📋 Config: {yaml_config.get('name', 'unnamed')}\")\n",
        "    print(\"=\"*60)\n",
        "\n",
        "    # Create config object\n",
        "    config = Config()\n",
        "\n",
        "    # Apply YAML config (skip metadata fields)\n",
        "    metadata_fields = {'name', 'description'}\n",
        "    for key, value in yaml_config.items():\n",
        "        if key not in metadata_fields:\n",
        "            setattr(config, key, value)\n",
        "\n",
        "    # Create output directory using config name\n",
        "    config_name = yaml_config.get('name', 'unnamed_config')\n",
        "    timestamp = datetime.now().strftime(\"%Y%m%d_%H%M%S\")\n",
        "    config.save_dir = f\"checkpoints/{config_name}_{timestamp}\"\n",
        "    os.makedirs(config.save_dir, exist_ok=True)\n",
        "\n",
        "    # 数据路径已在 config.py 中正确设置\n",
        "\n",
        "    # 显示配置\n",
        "    print(f\"📋 Training Configuration:\")\n",
        "    print(f\"  LoRA rank (r): {config.lora_r}\")\n",
        "    print(f\"  LoRA alpha: {config.lora_alpha}\")\n",
        "    print(f\"  Learning rate: {config.learning_rate}\")\n",
        "    print(f\"  Epochs: {config.num_epochs}\")\n",
        "    print(f\"  Batch size: {config.batch_size}\")\n",
        "    print(f\"  Max samples: {config.max_samples}\")\n",
        "    print(f\"  Save dir: {config.save_dir}\")\n",
        "    print()\n",
        "\n",
        "    # 加载组件\n",
        "    print(\"Loading LoRA model...\")\n",
        "    model = LoRAInstructBLIP(config)\n",
        "    print(\"✅ Model loaded successfully!\")\n",
        "\n",
        "    print(\"Loading dataset...\")\n",
        "    train_loader, val_loader, processor = load_rsicap_data(config)\n",
        "    print(\"✅ Dataset loaded successfully!\")\n",
        "\n",
        "    # 限制数据量\n",
        "    if config.max_samples:\n",
        "        print(f\"🔢 Limiting training to {config.max_samples} samples\")\n",
        "        limited_train_data = list(train_loader.dataset.data)[:config.max_samples]\n",
        "        limited_train_dataset = RSICapDataset(\n",
        "            limited_train_data,\n",
        "            train_loader.dataset.images_dir,\n",
        "            train_loader.dataset.processor,\n",
        "            'train'\n",
        "        )\n",
        "        train_loader = DataLoader(\n",
        "            limited_train_dataset,\n",
        "            batch_size=config.batch_size,\n",
        "            shuffle=True,\n",
        "            num_workers=0,\n",
        "            pin_memory=True,\n",
        "            collate_fn=collate_fn\n",
        "        )\n",
        "        print(f\"✅ Limited to {len(train_loader)} batches per epoch\")\n",
        "\n",
        "    # 创建训练器\n",
        "    print(\"Creating trainer...\")\n",
        "    trainer = LoRATrainer(\n",
        "        model=model,\n",
        "        train_loader=train_loader,\n",
        "        val_loader=val_loader,\n",
        "        config=config\n",
        "    )\n",
        "    print(\"✅ Trainer created successfully!\")\n",
        "\n",
        "    # 验证 LoRA 配置\n",
        "    model.verify_lora_training()\n",
        "\n",
        "    # 开始训练\n",
        "    print(\"\\n🚀 Starting LoRA training...\")\n",
        "    print(\"=\"*60)\n",
        "\n",
        "    latest_checkpoint_path = None\n",
        "\n",
        "    for epoch in range(config.num_epochs):\n",
        "        print(f\"\\n--- Epoch {epoch + 1}/{config.num_epochs} ---\")\n",
        "\n",
        "        # 训练\n",
        "        train_loss, epoch_time = trainer.train_epoch(epoch)\n",
        "\n",
        "        # 验证\n",
        "        val_loss = trainer.validate(epoch)\n",
        "\n",
        "        print(f\"Epoch {epoch + 1}: Train={train_loss:.4f}, Val={val_loss:.4f}, Time={epoch_time:.1f}s\")\n",
        "\n",
        "        # 保存每个epoch的历史记录\n",
        "        epoch_summary = {\n",
        "            \"epoch\": epoch + 1,\n",
        "            \"train_loss\": train_loss,\n",
        "            \"val_loss\": val_loss,\n",
        "            \"epoch_time\": epoch_time,\n",
        "            \"learning_rate\": trainer.optimizer.param_groups[0]['lr'] if hasattr(trainer, 'optimizer') else None,\n",
        "            \"timestamp\": datetime.now().isoformat()\n",
        "        }\n",
        "\n",
        "        # 保存单个epoch总结\n",
        "        epoch_file = os.path.join(config.save_dir, f\"epoch_{epoch+1}_summary.json\")\n",
        "        with open(epoch_file, 'w', encoding='utf-8') as f:\n",
        "            json.dump(epoch_summary, f, ensure_ascii=False, indent=2)\n",
        "\n",
        "        # 保存累积历史\n",
        "        history_file = os.path.join(config.save_dir, \"training_history.json\")\n",
        "        if os.path.exists(history_file):\n",
        "            with open(history_file, 'r', encoding='utf-8') as f:\n",
        "                history = json.load(f)\n",
        "        else:\n",
        "            history = {\"epochs\": []}\n",
        "\n",
        "        history[\"epochs\"].append(epoch_summary)\n",
        "        history[\"config\"] = yaml_config\n",
        "        history[\"last_updated\"] = datetime.now().isoformat()\n",
        "\n",
        "        with open(history_file, 'w', encoding='utf-8') as f:\n",
        "            json.dump(history, f, ensure_ascii=False, indent=2)\n",
        "\n",
        "        print(f\"📊 Epoch {epoch + 1} history saved\")\n",
        "\n",
        "        # 保存检查点\n",
        "        if (epoch + 1) % 2 == 0 or epoch == config.num_epochs - 1:\n",
        "            latest_checkpoint_path = os.path.join(config.save_dir, f\"checkpoint_epoch_{epoch+1}.pth\")\n",
        "            trainer.save_checkpoint(latest_checkpoint_path, epoch, train_loss, val_loss)\n",
        "            print(f\"💾 Checkpoint saved: {latest_checkpoint_path}\")\n",
        "\n",
        "    # 保存训练总结和生成可视化\n",
        "    print(\"\\n\" + \"=\"*60)\n",
        "    print(\"🎉 Training Completed!\")\n",
        "    print(\"=\"*60)\n",
        "\n",
        "    # 调用trainer的详细保存功能（包含可视化）\n",
        "    if hasattr(trainer, 'save_training_summary'):\n",
        "        detailed_summary_path = trainer.save_training_summary()\n",
        "        print(f\"📊 Detailed training summary with plots saved: {detailed_summary_path}\")\n",
        "    else:\n",
        "        # 如果trainer没有这个方法，调用plot_losses\n",
        "        if hasattr(trainer, 'plot_losses'):\n",
        "            trainer.plot_losses()\n",
        "            print(f\"📈 Training curves saved to: {config.save_dir}/training_curves.png\")\n",
        "\n",
        "    # 保存基本总结\n",
        "    summary = {\n",
        "        \"training_completed\": datetime.now().isoformat(),\n",
        "        \"config\": yaml_config,\n",
        "        \"final_losses\": {\n",
        "            \"train_loss\": trainer.train_losses[-1] if trainer.train_losses else None,\n",
        "            \"val_loss\": trainer.val_losses[-1] if trainer.val_losses else None\n",
        "        },\n",
        "        \"best_val_loss\": min(trainer.val_losses) if trainer.val_losses else None,\n",
        "        \"total_epochs\": len(trainer.train_losses),\n",
        "        \"total_training_time\": sum(trainer.epoch_times) if hasattr(trainer, 'epoch_times') else None,\n",
        "        \"checkpoints_dir\": config.save_dir\n",
        "    }\n",
        "\n",
        "    summary_path = os.path.join(config.save_dir, \"training_summary.json\")\n",
        "    with open(summary_path, 'w', encoding='utf-8') as f:\n",
        "        json.dump(summary, f, ensure_ascii=False, indent=2)\n",
        "\n",
        "    print(f\"📄 Basic training summary saved: {summary_path}\")\n",
        "    print(f\"💾 Latest checkpoint: {latest_checkpoint_path}\")\n",
        "    print(f\"📁 All files saved to: {config.save_dir}\")\n",
        "    print(\"\\n✅ All done!\")\n",
        "    return latest_checkpoint_path\n",
        "\n",
        "def main():\n",
        "    \"\"\"Main function to run training with multiple configurations\"\"\"\n",
        "\n",
        "    print(\"🚀 Starting LoRA Training Pipeline\")\n",
        "    print(f\"📁 Found {len(CONFIG_FILES)} configuration(s) to run\")\n",
        "    print(\"=\"*60)\n",
        "\n",
        "    results = []\n",
        "\n",
        "    for i, config_path in enumerate(CONFIG_FILES, 1):\n",
        "        print(f\"\\n🔄 Running configuration {i}/{len(CONFIG_FILES)}: {config_path}\")\n",
        "\n",
        "        try:\n",
        "            checkpoint_path = train_single_config(config_path)\n",
        "            results.append({\n",
        "                \"config_path\": config_path,\n",
        "                \"status\": \"success\",\n",
        "                \"checkpoint\": checkpoint_path\n",
        "            })\n",
        "            print(f\"✅ Configuration {i} completed successfully!\")\n",
        "\n",
        "        except Exception as e:\n",
        "            print(f\"❌ Configuration {i} failed: {e}\")\n",
        "            results.append({\n",
        "                \"config_path\": config_path,\n",
        "                \"status\": \"failed\",\n",
        "                \"error\": str(e)\n",
        "            })\n",
        "\n",
        "    # Print final summary\n",
        "    print(\"\\n\" + \"=\"*60)\n",
        "    print(\"🎉 Training Pipeline Completed!\")\n",
        "    print(\"=\"*60)\n",
        "\n",
        "    successful = [r for r in results if r[\"status\"] == \"success\"]\n",
        "    failed = [r for r in results if r[\"status\"] == \"failed\"]\n",
        "\n",
        "    print(f\"✅ Successful: {len(successful)}\")\n",
        "    print(f\"❌ Failed: {len(failed)}\")\n",
        "\n",
        "    if successful:\n",
        "        print(\"\\n📊 Successful Runs:\")\n",
        "        for result in successful:\n",
        "            config_name = os.path.basename(result[\"config_path\"])\n",
        "            print(f\"  - {config_name} → {result['checkpoint']}\")\n",
        "\n",
        "    if failed:\n",
        "        print(\"\\n💥 Failed Runs:\")\n",
        "        for result in failed:\n",
        "            config_name = os.path.basename(result[\"config_path\"])\n",
        "            print(f\"  - {config_name}: {result['error']}\")\n",
        "\n",
        "if __name__ == \"__main__\":\n",
        "    main()\n"
      ],
      "metadata": {
        "colab": {
          "base_uri": "https://localhost:8080/",
          "height": 1000,
          "referenced_widgets": [
            "daa6536596bf4f18836d14e7c375e42c",
            "86b8fc3a03584ac3bc4ccd477b79f26d",
            "db34d583985243abb5f3e1d8a9f289f3",
            "6e1db235b6334c88a546783ac717a3db",
            "fa200dd92f3e4b1ea803cebf3935c3f0",
            "0a9056dfc9a744a1963a63359863d7a5",
            "a8f62a447e50405ba177a4f80d59823b",
            "b4ab1528e2694de3ba94ebee58b20584",
            "9fc1bf049bec4c859b56e1080e697900",
            "e71b3d68c5614f10a4fa6688eee42b69",
            "8c260e97e7a24e4abc423c045ea8a10c"
          ]
        },
        "id": "sYoBHMImzZG_",
        "outputId": "1b473bbb-7da1-49ed-9a6d-b1c03b4fb2ef"
      },
      "execution_count": 3,
      "outputs": [
        {
          "output_type": "stream",
          "name": "stdout",
          "text": [
            "🚀 Starting LoRA Training Pipeline\n",
            "📁 Found 1 configuration(s) to run\n",
            "============================================================\n",
            "\n",
            "🔄 Running configuration 1/1: configs/grid_search_v8_middle_rank_15epochs_slower_lr.yml\n",
            "📋 Loaded config: grid_search_v8_middle_rank_15epochs\n",
            "📝 Description: Grid search configuration for higher LoRA and wider batch\n",
            "============================================================\n",
            "🚀 LoRA Training - InstructBLIP on RSICap\n",
            "📋 Config: grid_search_v8_middle_rank_15epochs\n",
            "============================================================\n",
            "📋 Training Configuration:\n",
            "  LoRA rank (r): 24\n",
            "  LoRA alpha: 48\n",
            "  Learning rate: 0.0002\n",
            "  Epochs: 15\n",
            "  Batch size: 15\n",
            "  Max samples: 2068\n",
            "  Save dir: checkpoints/grid_search_v8_middle_rank_15epochs_20250725_002640\n",
            "\n",
            "Loading LoRA model...\n",
            "Loading base model: Salesforce/instructblip-flan-t5-xl\n"
          ]
        },
        {
          "output_type": "stream",
          "name": "stderr",
          "text": [
            "/usr/local/lib/python3.11/dist-packages/huggingface_hub/utils/_auth.py:94: UserWarning: \n",
            "The secret `HF_TOKEN` does not exist in your Colab secrets.\n",
            "To authenticate with the Hugging Face Hub, create a token in your settings tab (https://huggingface.co/settings/tokens), set it as secret in your Google Colab and restart your session.\n",
            "You will be able to reuse this secret in all of your notebooks.\n",
            "Please note that authentication is recommended but still optional to access public models or datasets.\n",
            "  warnings.warn(\n"
          ]
        },
        {
          "output_type": "display_data",
          "data": {
            "text/plain": [
              "Loading checkpoint shards:   0%|          | 0/2 [00:00<?, ?it/s]"
            ],
            "application/vnd.jupyter.widget-view+json": {
              "version_major": 2,
              "version_minor": 0,
              "model_id": "daa6536596bf4f18836d14e7c375e42c"
            }
          },
          "metadata": {}
        },
        {
          "output_type": "stream",
          "name": "stdout",
          "text": [
            "Applying LoRA to Q-Former only...\n"
          ]
        },
        {
          "output_type": "stream",
          "name": "stderr",
          "text": [
            "Using a slow image processor as `use_fast` is unset and a slow processor was saved with this model. `use_fast=True` will be the default behavior in v4.52, even if the model was saved with a slow processor. This will result in minor differences in outputs. You'll still be able to use a slow processor with `use_fast=False`.\n"
          ]
        },
        {
          "output_type": "stream",
          "name": "stdout",
          "text": [
            "trainable params: 7,262,208 || all params: 4,030,231,296 || trainable%: 0.1802\n",
            "✅ Model loaded successfully!\n",
            "Loading dataset...\n",
            "Loading RSICap data from data/rsgpt_dataset/RSICap/captions.json\n",
            "Loaded 2585 samples\n",
            "Split: 2068 train, 517 validation\n",
            "✅ Dataset loaded successfully!\n",
            "🔢 Limiting training to 2068 samples\n",
            "✅ Limited to 138 batches per epoch\n",
            "Creating trainer...\n",
            "✅ Trainer created successfully!\n",
            "\n",
            "============================================================\n",
            "LoRA Training Verification\n",
            "============================================================\n",
            "Total parameters: 4,030,231,296\n",
            "Trainable parameters: 7,262,208\n",
            "Trainable percentage: 0.1802%\n",
            "LoRA parameters found: 240\n",
            "\n",
            "LoRA Parameters Details:\n",
            "  base_model.model.qformer.encoder.layer.0.attention.attention.query.lora_A.default.weight: torch.Size([24, 768]), mean=-0.000057, std=0.020764\n",
            "  base_model.model.qformer.encoder.layer.0.attention.attention.query.lora_B.default.weight: torch.Size([768, 24]), mean=0.000000, std=0.000000\n",
            "  base_model.model.qformer.encoder.layer.0.attention.attention.key.lora_A.default.weight: torch.Size([24, 768]), mean=0.000170, std=0.020872\n",
            "  base_model.model.qformer.encoder.layer.0.attention.attention.key.lora_B.default.weight: torch.Size([768, 24]), mean=0.000000, std=0.000000\n",
            "  base_model.model.qformer.encoder.layer.0.attention.attention.value.lora_A.default.weight: torch.Size([24, 768]), mean=0.000216, std=0.020830\n",
            "  ... and 235 more LoRA parameters\n",
            "\n",
            "Q-Former Analysis:\n",
            "  Total Q-Former parameters: 192,922,368\n",
            "  Q-Former LoRA parameters: 7,262,208\n",
            "✅ Q-Former LoRA is correctly configured!\n",
            "============================================================\n",
            "\n",
            "🚀 Starting LoRA training...\n",
            "============================================================\n",
            "\n",
            "--- Epoch 1/15 ---\n"
          ]
        },
        {
          "output_type": "stream",
          "name": "stderr",
          "text": [
            "\rEpoch 1/15:   0%|          | 0/138 [00:00<?, ?it/s]/usr/local/lib/python3.11/dist-packages/transformers/tokenization_utils_base.py:3951: UserWarning: `as_target_tokenizer` is deprecated and will be removed in v5 of Transformers. You can tokenize your labels by using the argument `text_target` of the regular `__call__` method (either in the same call as your input texts if you use the same keyword arguments, or in a separate call.\n",
            "  warnings.warn(\n",
            "Passing a tuple of `past_key_values` is deprecated and will be removed in Transformers v4.48.0. You should pass an instance of `EncoderDecoderCache` instead, e.g. `past_key_values=EncoderDecoderCache.from_legacy_cache(past_key_values)`.\n",
            "Epoch 1/15: 100%|██████████| 138/138 [04:54<00:00,  2.13s/it, Loss=1.7961, Avg=1.9294, LR=1.8e-04]\n"
          ]
        },
        {
          "output_type": "stream",
          "name": "stdout",
          "text": [
            "✅ Epoch 1 completed in 294.54s\n",
            "📊 Average training loss: 1.9294\n",
            "🔢 Processed 138/138 valid batches\n"
          ]
        },
        {
          "output_type": "stream",
          "name": "stderr",
          "text": []
        },
        {
          "output_type": "stream",
          "name": "stdout",
          "text": [
            "📈 Validation loss: 1.5808\n",
            "🔢 Processed 35/35 valid validation batches\n",
            "Epoch 1: Train=1.9294, Val=1.5808, Time=294.5s\n",
            "📊 Epoch 1 history saved\n",
            "\n",
            "--- Epoch 2/15 ---\n"
          ]
        },
        {
          "output_type": "stream",
          "name": "stderr",
          "text": [
            "Epoch 2/15: 100%|██████████| 138/138 [04:54<00:00,  2.13s/it, Loss=1.5193, Avg=1.6590, LR=2.0e-04]\n"
          ]
        },
        {
          "output_type": "stream",
          "name": "stdout",
          "text": [
            "✅ Epoch 2 completed in 294.61s\n",
            "📊 Average training loss: 1.6590\n",
            "🔢 Processed 138/138 valid batches\n"
          ]
        },
        {
          "output_type": "stream",
          "name": "stderr",
          "text": []
        },
        {
          "output_type": "stream",
          "name": "stdout",
          "text": [
            "📈 Validation loss: 1.5165\n",
            "🔢 Processed 35/35 valid validation batches\n",
            "Epoch 2: Train=1.6590, Val=1.5165, Time=294.6s\n",
            "📊 Epoch 2 history saved\n",
            "Model saved to checkpoints/grid_search_v8_middle_rank_15epochs_20250725_002640/checkpoint_epoch_2.pth\n",
            "Checkpoint saved to checkpoints/grid_search_v8_middle_rank_15epochs_20250725_002640/checkpoint_epoch_2.pth\n",
            "💾 Checkpoint saved: checkpoints/grid_search_v8_middle_rank_15epochs_20250725_002640/checkpoint_epoch_2.pth\n",
            "\n",
            "--- Epoch 3/15 ---\n"
          ]
        },
        {
          "output_type": "stream",
          "name": "stderr",
          "text": [
            "Epoch 3/15: 100%|██████████| 138/138 [04:54<00:00,  2.14s/it, Loss=1.5849, Avg=1.6117, LR=2.0e-04]\n"
          ]
        },
        {
          "output_type": "stream",
          "name": "stdout",
          "text": [
            "✅ Epoch 3 completed in 294.70s\n",
            "📊 Average training loss: 1.6117\n",
            "🔢 Processed 138/138 valid batches\n"
          ]
        },
        {
          "output_type": "stream",
          "name": "stderr",
          "text": []
        },
        {
          "output_type": "stream",
          "name": "stdout",
          "text": [
            "📈 Validation loss: 1.4693\n",
            "🔢 Processed 35/35 valid validation batches\n",
            "Epoch 3: Train=1.6117, Val=1.4693, Time=294.7s\n",
            "📊 Epoch 3 history saved\n",
            "\n",
            "--- Epoch 4/15 ---\n"
          ]
        },
        {
          "output_type": "stream",
          "name": "stderr",
          "text": [
            "Epoch 4/15: 100%|██████████| 138/138 [04:54<00:00,  2.14s/it, Loss=1.4912, Avg=1.5827, LR=2.0e-04]\n"
          ]
        },
        {
          "output_type": "stream",
          "name": "stdout",
          "text": [
            "✅ Epoch 4 completed in 294.65s\n",
            "📊 Average training loss: 1.5827\n",
            "🔢 Processed 138/138 valid batches\n"
          ]
        },
        {
          "output_type": "stream",
          "name": "stderr",
          "text": []
        },
        {
          "output_type": "stream",
          "name": "stdout",
          "text": [
            "📈 Validation loss: 1.4695\n",
            "🔢 Processed 35/35 valid validation batches\n",
            "Epoch 4: Train=1.5827, Val=1.4695, Time=294.6s\n",
            "📊 Epoch 4 history saved\n",
            "Model saved to checkpoints/grid_search_v8_middle_rank_15epochs_20250725_002640/checkpoint_epoch_4.pth\n",
            "Checkpoint saved to checkpoints/grid_search_v8_middle_rank_15epochs_20250725_002640/checkpoint_epoch_4.pth\n",
            "💾 Checkpoint saved: checkpoints/grid_search_v8_middle_rank_15epochs_20250725_002640/checkpoint_epoch_4.pth\n",
            "\n",
            "--- Epoch 5/15 ---\n"
          ]
        },
        {
          "output_type": "stream",
          "name": "stderr",
          "text": [
            "Epoch 5/15: 100%|██████████| 138/138 [04:54<00:00,  2.14s/it, Loss=1.6128, Avg=1.5670, LR=2.0e-04]\n"
          ]
        },
        {
          "output_type": "stream",
          "name": "stdout",
          "text": [
            "✅ Epoch 5 completed in 294.83s\n",
            "📊 Average training loss: 1.5670\n",
            "🔢 Processed 138/138 valid batches\n"
          ]
        },
        {
          "output_type": "stream",
          "name": "stderr",
          "text": []
        },
        {
          "output_type": "stream",
          "name": "stdout",
          "text": [
            "📈 Validation loss: 1.4432\n",
            "🔢 Processed 35/35 valid validation batches\n",
            "Epoch 5: Train=1.5670, Val=1.4432, Time=294.8s\n",
            "📊 Epoch 5 history saved\n",
            "\n",
            "--- Epoch 6/15 ---\n"
          ]
        },
        {
          "output_type": "stream",
          "name": "stderr",
          "text": [
            "Epoch 6/15: 100%|██████████| 138/138 [04:54<00:00,  2.13s/it, Loss=1.6319, Avg=1.5516, LR=2.0e-04]\n"
          ]
        },
        {
          "output_type": "stream",
          "name": "stdout",
          "text": [
            "✅ Epoch 6 completed in 294.42s\n",
            "📊 Average training loss: 1.5516\n",
            "🔢 Processed 138/138 valid batches\n"
          ]
        },
        {
          "output_type": "stream",
          "name": "stderr",
          "text": []
        },
        {
          "output_type": "stream",
          "name": "stdout",
          "text": [
            "📈 Validation loss: 1.4473\n",
            "🔢 Processed 35/35 valid validation batches\n",
            "Epoch 6: Train=1.5516, Val=1.4473, Time=294.4s\n",
            "📊 Epoch 6 history saved\n",
            "Model saved to checkpoints/grid_search_v8_middle_rank_15epochs_20250725_002640/checkpoint_epoch_6.pth\n",
            "Checkpoint saved to checkpoints/grid_search_v8_middle_rank_15epochs_20250725_002640/checkpoint_epoch_6.pth\n",
            "💾 Checkpoint saved: checkpoints/grid_search_v8_middle_rank_15epochs_20250725_002640/checkpoint_epoch_6.pth\n",
            "\n",
            "--- Epoch 7/15 ---\n"
          ]
        },
        {
          "output_type": "stream",
          "name": "stderr",
          "text": [
            "Epoch 7/15: 100%|██████████| 138/138 [04:54<00:00,  2.13s/it, Loss=1.5540, Avg=1.5426, LR=2.0e-04]\n"
          ]
        },
        {
          "output_type": "stream",
          "name": "stdout",
          "text": [
            "✅ Epoch 7 completed in 294.15s\n",
            "📊 Average training loss: 1.5426\n",
            "🔢 Processed 138/138 valid batches\n"
          ]
        },
        {
          "output_type": "stream",
          "name": "stderr",
          "text": []
        },
        {
          "output_type": "stream",
          "name": "stdout",
          "text": [
            "📈 Validation loss: 1.4281\n",
            "🔢 Processed 35/35 valid validation batches\n",
            "Epoch 7: Train=1.5426, Val=1.4281, Time=294.2s\n",
            "📊 Epoch 7 history saved\n",
            "\n",
            "--- Epoch 8/15 ---\n"
          ]
        },
        {
          "output_type": "stream",
          "name": "stderr",
          "text": [
            "Epoch 8/15: 100%|██████████| 138/138 [04:54<00:00,  2.13s/it, Loss=1.4871, Avg=1.5262, LR=2.0e-04]\n"
          ]
        },
        {
          "output_type": "stream",
          "name": "stdout",
          "text": [
            "✅ Epoch 8 completed in 294.08s\n",
            "📊 Average training loss: 1.5262\n",
            "🔢 Processed 138/138 valid batches\n"
          ]
        },
        {
          "output_type": "stream",
          "name": "stderr",
          "text": []
        },
        {
          "output_type": "stream",
          "name": "stdout",
          "text": [
            "📈 Validation loss: 1.4275\n",
            "🔢 Processed 35/35 valid validation batches\n",
            "Epoch 8: Train=1.5262, Val=1.4275, Time=294.1s\n",
            "📊 Epoch 8 history saved\n",
            "Model saved to checkpoints/grid_search_v8_middle_rank_15epochs_20250725_002640/checkpoint_epoch_8.pth\n",
            "Checkpoint saved to checkpoints/grid_search_v8_middle_rank_15epochs_20250725_002640/checkpoint_epoch_8.pth\n",
            "💾 Checkpoint saved: checkpoints/grid_search_v8_middle_rank_15epochs_20250725_002640/checkpoint_epoch_8.pth\n",
            "\n",
            "--- Epoch 9/15 ---\n"
          ]
        },
        {
          "output_type": "stream",
          "name": "stderr",
          "text": [
            "Epoch 9/15: 100%|██████████| 138/138 [04:54<00:00,  2.13s/it, Loss=1.4801, Avg=1.5181, LR=2.0e-04]\n"
          ]
        },
        {
          "output_type": "stream",
          "name": "stdout",
          "text": [
            "✅ Epoch 9 completed in 294.39s\n",
            "📊 Average training loss: 1.5181\n",
            "🔢 Processed 138/138 valid batches\n"
          ]
        },
        {
          "output_type": "stream",
          "name": "stderr",
          "text": []
        },
        {
          "output_type": "stream",
          "name": "stdout",
          "text": [
            "📈 Validation loss: 1.4136\n",
            "🔢 Processed 35/35 valid validation batches\n",
            "Epoch 9: Train=1.5181, Val=1.4136, Time=294.4s\n",
            "📊 Epoch 9 history saved\n",
            "\n",
            "--- Epoch 10/15 ---\n"
          ]
        },
        {
          "output_type": "stream",
          "name": "stderr",
          "text": [
            "Epoch 10/15: 100%|██████████| 138/138 [04:54<00:00,  2.13s/it, Loss=1.6284, Avg=1.5082, LR=2.0e-04]\n"
          ]
        },
        {
          "output_type": "stream",
          "name": "stdout",
          "text": [
            "✅ Epoch 10 completed in 294.29s\n",
            "📊 Average training loss: 1.5082\n",
            "🔢 Processed 138/138 valid batches\n"
          ]
        },
        {
          "output_type": "stream",
          "name": "stderr",
          "text": []
        },
        {
          "output_type": "stream",
          "name": "stdout",
          "text": [
            "📈 Validation loss: 1.4134\n",
            "🔢 Processed 35/35 valid validation batches\n",
            "Epoch 10: Train=1.5082, Val=1.4134, Time=294.3s\n",
            "📊 Epoch 10 history saved\n",
            "Model saved to checkpoints/grid_search_v8_middle_rank_15epochs_20250725_002640/checkpoint_epoch_10.pth\n",
            "Checkpoint saved to checkpoints/grid_search_v8_middle_rank_15epochs_20250725_002640/checkpoint_epoch_10.pth\n",
            "💾 Checkpoint saved: checkpoints/grid_search_v8_middle_rank_15epochs_20250725_002640/checkpoint_epoch_10.pth\n",
            "\n",
            "--- Epoch 11/15 ---\n"
          ]
        },
        {
          "output_type": "stream",
          "name": "stderr",
          "text": [
            "Epoch 11/15: 100%|██████████| 138/138 [04:54<00:00,  2.13s/it, Loss=1.3980, Avg=1.4996, LR=2.0e-04]\n"
          ]
        },
        {
          "output_type": "stream",
          "name": "stdout",
          "text": [
            "✅ Epoch 11 completed in 294.39s\n",
            "📊 Average training loss: 1.4996\n",
            "🔢 Processed 138/138 valid batches\n"
          ]
        },
        {
          "output_type": "stream",
          "name": "stderr",
          "text": []
        },
        {
          "output_type": "stream",
          "name": "stdout",
          "text": [
            "📈 Validation loss: 1.4061\n",
            "🔢 Processed 35/35 valid validation batches\n",
            "Epoch 11: Train=1.4996, Val=1.4061, Time=294.4s\n",
            "📊 Epoch 11 history saved\n",
            "\n",
            "--- Epoch 12/15 ---\n"
          ]
        },
        {
          "output_type": "stream",
          "name": "stderr",
          "text": [
            "Epoch 12/15: 100%|██████████| 138/138 [04:53<00:00,  2.13s/it, Loss=1.5437, Avg=1.4873, LR=2.0e-04]\n"
          ]
        },
        {
          "output_type": "stream",
          "name": "stdout",
          "text": [
            "✅ Epoch 12 completed in 293.74s\n",
            "📊 Average training loss: 1.4873\n",
            "🔢 Processed 138/138 valid batches\n"
          ]
        },
        {
          "output_type": "stream",
          "name": "stderr",
          "text": []
        },
        {
          "output_type": "stream",
          "name": "stdout",
          "text": [
            "📈 Validation loss: 1.4104\n",
            "🔢 Processed 35/35 valid validation batches\n",
            "Epoch 12: Train=1.4873, Val=1.4104, Time=293.7s\n",
            "📊 Epoch 12 history saved\n",
            "Model saved to checkpoints/grid_search_v8_middle_rank_15epochs_20250725_002640/checkpoint_epoch_12.pth\n",
            "Checkpoint saved to checkpoints/grid_search_v8_middle_rank_15epochs_20250725_002640/checkpoint_epoch_12.pth\n",
            "💾 Checkpoint saved: checkpoints/grid_search_v8_middle_rank_15epochs_20250725_002640/checkpoint_epoch_12.pth\n",
            "\n",
            "--- Epoch 13/15 ---\n"
          ]
        },
        {
          "output_type": "stream",
          "name": "stderr",
          "text": [
            "Epoch 13/15: 100%|██████████| 138/138 [04:54<00:00,  2.13s/it, Loss=1.4466, Avg=1.4810, LR=2.0e-04]\n"
          ]
        },
        {
          "output_type": "stream",
          "name": "stdout",
          "text": [
            "✅ Epoch 13 completed in 294.02s\n",
            "📊 Average training loss: 1.4810\n",
            "🔢 Processed 138/138 valid batches\n"
          ]
        },
        {
          "output_type": "stream",
          "name": "stderr",
          "text": []
        },
        {
          "output_type": "stream",
          "name": "stdout",
          "text": [
            "📈 Validation loss: 1.3998\n",
            "🔢 Processed 35/35 valid validation batches\n",
            "Epoch 13: Train=1.4810, Val=1.3998, Time=294.0s\n",
            "📊 Epoch 13 history saved\n",
            "\n",
            "--- Epoch 14/15 ---\n"
          ]
        },
        {
          "output_type": "stream",
          "name": "stderr",
          "text": [
            "Epoch 14/15: 100%|██████████| 138/138 [04:54<00:00,  2.13s/it, Loss=1.4110, Avg=1.4716, LR=2.0e-04]\n"
          ]
        },
        {
          "output_type": "stream",
          "name": "stdout",
          "text": [
            "✅ Epoch 14 completed in 294.42s\n",
            "📊 Average training loss: 1.4716\n",
            "🔢 Processed 138/138 valid batches\n"
          ]
        },
        {
          "output_type": "stream",
          "name": "stderr",
          "text": []
        },
        {
          "output_type": "stream",
          "name": "stdout",
          "text": [
            "📈 Validation loss: 1.4073\n",
            "🔢 Processed 35/35 valid validation batches\n",
            "Epoch 14: Train=1.4716, Val=1.4073, Time=294.4s\n",
            "📊 Epoch 14 history saved\n",
            "Model saved to checkpoints/grid_search_v8_middle_rank_15epochs_20250725_002640/checkpoint_epoch_14.pth\n",
            "Checkpoint saved to checkpoints/grid_search_v8_middle_rank_15epochs_20250725_002640/checkpoint_epoch_14.pth\n",
            "💾 Checkpoint saved: checkpoints/grid_search_v8_middle_rank_15epochs_20250725_002640/checkpoint_epoch_14.pth\n",
            "\n",
            "--- Epoch 15/15 ---\n"
          ]
        },
        {
          "output_type": "stream",
          "name": "stderr",
          "text": [
            "Epoch 15/15: 100%|██████████| 138/138 [04:53<00:00,  2.12s/it, Loss=1.5639, Avg=1.4641, LR=2.0e-04]\n"
          ]
        },
        {
          "output_type": "stream",
          "name": "stdout",
          "text": [
            "✅ Epoch 15 completed in 293.21s\n",
            "📊 Average training loss: 1.4641\n",
            "🔢 Processed 138/138 valid batches\n"
          ]
        },
        {
          "output_type": "stream",
          "name": "stderr",
          "text": []
        },
        {
          "output_type": "stream",
          "name": "stdout",
          "text": [
            "📈 Validation loss: 1.3987\n",
            "🔢 Processed 35/35 valid validation batches\n",
            "Epoch 15: Train=1.4641, Val=1.3987, Time=293.2s\n",
            "📊 Epoch 15 history saved\n",
            "Model saved to checkpoints/grid_search_v8_middle_rank_15epochs_20250725_002640/checkpoint_epoch_15.pth\n",
            "Checkpoint saved to checkpoints/grid_search_v8_middle_rank_15epochs_20250725_002640/checkpoint_epoch_15.pth\n",
            "💾 Checkpoint saved: checkpoints/grid_search_v8_middle_rank_15epochs_20250725_002640/checkpoint_epoch_15.pth\n",
            "\n",
            "============================================================\n",
            "🎉 Training Completed!\n",
            "============================================================\n",
            "📊 Detailed training summary saved to checkpoints/grid_search_v8_middle_rank_15epochs_20250725_002640/training_summary_detailed.json\n",
            "📈 Training curves saved to checkpoints/grid_search_v8_middle_rank_15epochs_20250725_002640/training_curves.png\n",
            "📊 Detailed training summary with plots saved: checkpoints/grid_search_v8_middle_rank_15epochs_20250725_002640/training_summary_detailed.json\n",
            "📄 Basic training summary saved: checkpoints/grid_search_v8_middle_rank_15epochs_20250725_002640/training_summary.json\n",
            "💾 Latest checkpoint: checkpoints/grid_search_v8_middle_rank_15epochs_20250725_002640/checkpoint_epoch_15.pth\n",
            "📁 All files saved to: checkpoints/grid_search_v8_middle_rank_15epochs_20250725_002640\n",
            "\n",
            "✅ All done!\n",
            "✅ Configuration 1 completed successfully!\n",
            "\n",
            "============================================================\n",
            "🎉 Training Pipeline Completed!\n",
            "============================================================\n",
            "✅ Successful: 1\n",
            "❌ Failed: 0\n",
            "\n",
            "📊 Successful Runs:\n",
            "  - grid_search_v8_middle_rank_15epochs_slower_lr.yml → checkpoints/grid_search_v8_middle_rank_15epochs_20250725_002640/checkpoint_epoch_15.pth\n"
          ]
        }
      ]
    },
    {
      "cell_type": "code",
      "source": [
        "import json\n",
        "import matplotlib.pyplot as plt\n",
        "\n",
        "\n",
        "\n",
        "import json\n",
        "import matplotlib.pyplot as plt\n",
        "import os\n",
        "\n",
        "# Set path to your training summary file\n",
        "# Replace this with your full path if running in Colab\n",
        "summary_path = \"/content/drive/MyDrive/RemoteSensing-Lora-InstructBlip/checkpoints/grid_search_v8_middle_rank_15epochs_20250725_002640/training_summary.json\"\n",
        "\n",
        "# Check file exists\n",
        "if not os.path.exists(summary_path):\n",
        "    raise FileNotFoundError(f\"{summary_path} not found\")\n",
        "\n",
        "# Load JSON summary\n",
        "with open(summary_path, \"r\", encoding=\"utf-8\") as f:\n",
        "    summary = json.load(f)\n",
        "\n",
        "# Load epoch-by-epoch history (if not in this file, load from training_history.json instead)\n",
        "history_path = os.path.join(summary[\"checkpoints_dir\"], \"training_history.json\")\n",
        "if not os.path.exists(history_path):\n",
        "    raise FileNotFoundError(f\"{history_path} not found\")\n",
        "\n",
        "with open(history_path, \"r\", encoding=\"utf-8\") as f:\n",
        "    history = json.load(f)\n",
        "\n",
        "# Extract losses\n",
        "epochs = [e[\"epoch\"] for e in history[\"epochs\"]]\n",
        "train_losses = [e[\"train_loss\"] for e in history[\"epochs\"]]\n",
        "val_losses = [e[\"val_loss\"] for e in history[\"epochs\"]]\n",
        "\n",
        "# Plotting\n",
        "plt.figure(figsize=(10, 6))\n",
        "plt.plot(epochs, train_losses, label=\"Training Loss\", marker=\"o\")\n",
        "plt.plot(epochs, val_losses, label=\"Validation Loss\", marker=\"o\")\n",
        "plt.xlabel(\"Epoch\")\n",
        "plt.ylabel(\"Loss\")\n",
        "plt.title(\"Training vs Validation Loss - grid_v8_middle_rank_15epochs\")\n",
        "plt.grid(True)\n",
        "plt.legend()\n",
        "plt.tight_layout()\n",
        "plt.show()\n",
        "\n",
        "# # ✅ Save plot to Google Drive\n",
        "# save_path = \"/content/drive/MyDrive/RemoteSensing-Lora-InstructBlip/loss_plot_v8_middle_rank.png\"\n",
        "# plt.savefig(save_path)\n",
        "# plt.show()\n",
        "\n",
        "# print(f\"✅ Plot saved to: {save_path}\")\n"
      ],
      "metadata": {
        "colab": {
          "base_uri": "https://localhost:8080/",
          "height": 641
        },
        "id": "W05OG29xUoZP",
        "outputId": "bcc2edf4-8bca-4ff3-fd56-3a47ed1ad1e2"
      },
      "execution_count": 6,
      "outputs": [
        {
          "output_type": "display_data",
          "data": {
            "text/plain": [
              "<Figure size 1000x600 with 1 Axes>"
            ],
            "image/png": "[encoded data removed]"
          },
          "metadata": {}
        },
        {
          "output_type": "display_data",
          "data": {
            "text/plain": [
              "<Figure size 640x480 with 0 Axes>"
            ]
          },
          "metadata": {}
        },
        {
          "output_type": "stream",
          "name": "stdout",
          "text": [
            "✅ Plot saved to: /content/drive/MyDrive/RemoteSensing-Lora-InstructBlip/loss_plot_v8_middle_rank.png\n"
          ]
        }
      ]
    }
  ]
}